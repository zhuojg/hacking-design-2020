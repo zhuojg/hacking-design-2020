{
 "cells": [
  {
   "cell_type": "markdown",
   "metadata": {},
   "source": [
    "# 自动配色算法\n",
    "\n",
    "## 设计⼀个⾃动配⾊的算法，以架构图的⽅式、代码的⽅式提交\n",
    "\n",
    "提示：利⽤本节课介绍的知识，可以搭建⼀个，但肯定还有很多可以提升的余地。  \n",
    "\n",
    "### STEP01 定义输⼊输出\n",
    "\n",
    "举例：定义输⼊：某个颜⾊rgb；输出：3个可搭配的颜⾊rgb及⽐例  \n",
    "\n",
    "### STEP02 分类rgb到某个颜⾊（或⾊相）\n",
    "\n",
    "### STEP03 根据分类后的颜⾊，返回搭配的其他⾊彩\n",
    "\n",
    "举例:可以预先设定⾊彩搭配模板，也可以根据⾊彩规律计算，还可以有哪些⽅法？"
   ]
  },
  {
   "cell_type": "code",
   "execution_count": 40,
   "metadata": {
    "ExecuteTime": {
     "end_time": "2020-06-07T12:46:11.358892Z",
     "start_time": "2020-06-07T12:46:11.343849Z"
    }
   },
   "outputs": [],
   "source": [
    "# import lib\n",
    "import colorsys\n",
    "from PIL import Image, ImageDraw"
   ]
  },
  {
   "cell_type": "code",
   "execution_count": 46,
   "metadata": {
    "ExecuteTime": {
     "end_time": "2020-06-07T12:47:34.803424Z",
     "start_time": "2020-06-07T12:47:34.794425Z"
    }
   },
   "outputs": [],
   "source": [
    "# utils\n",
    "def color_class_visualize(input_color):\n",
    "    \"\"\"\n",
    "    :param input_color: should be rgb color, with value between [0, 255], like [126, 45, 200]\n",
    "    \"\"\"\n",
    "    pass\n",
    "\n",
    "def color_visualize(main_color, matched_colors):\n",
    "    \"\"\"\n",
    "    :param main_color: user input color, should be rgb color, with value between [0, 255], like [126, 45, 200]\n",
    "    :param matched_colors: matched colors calculated by the program\n",
    "    :return: \n",
    "    \"\"\"\n",
    "    canvas = Image.new('RGB', (100 * color_number + 100, 100), (255, 255, 255))\n",
    "    draw = ImageDraw.Draw(canvas)\n",
    "    for i, item in enumerate(matched_colors):\n",
    "        draw.rectangle((i*100, 0, i* 100 + 100, 100), tuple(item))\n",
    "    \n",
    "    # add input color at the last position\n",
    "    draw.rectangle((color_number * 100, 0, 100 * color_number + 100, 100 ), tuple(main_color))\n",
    "\n",
    "    canvas.show()"
   ]
  },
  {
   "cell_type": "code",
   "execution_count": 42,
   "metadata": {
    "ExecuteTime": {
     "end_time": "2020-06-07T12:46:15.817044Z",
     "start_time": "2020-06-07T12:46:15.807528Z"
    }
   },
   "outputs": [
    {
     "name": "stdout",
     "output_type": "stream",
     "text": [
      "绿\n"
     ]
    }
   ],
   "source": [
    "def color_classification(input_color, mode='hue'):\n",
    "    \"\"\"\n",
    "    :param input_color: should be rgb color, with value between [0, 255], like [126, 45, 200]\n",
    "    :param mode: hue, xxx or xxx\n",
    "    :return: the class input_color belongs to, calculated with rule of mode\n",
    "    \"\"\"\n",
    "    if mode not in ['hue', 'emotion']:\n",
    "        raise ValueError('Invalid color classification mode \"%s\"' % mode)\n",
    "    \n",
    "    color_class = None\n",
    "    \n",
    "    color_rgb = input_color\n",
    "    color_hsv = list(colorsys.rgb_to_hsv(color_rgb[0], color_rgb[1], color_rgb[2]))\n",
    "    # in colorsys, the v value belongs to [0, 255], but h and s belongs to [0, 1]\n",
    "    # so convert it\n",
    "    color_hsv[2] = color_hsv[2] / 255.\n",
    "    \n",
    "    if mode == 'hue':\n",
    "        class_define = ['红', '橙', '黄', '黄绿', '绿', '青绿', '青', '天蓝', '蓝', '蓝紫', '紫', '紫红']\n",
    "        hue = color_hsv[0]\n",
    "        color_class = class_define[int(hue * 360 / 30)]\n",
    "    elif mode == 'emotion':\n",
    "        pass\n",
    "    \n",
    "    return color_class"
   ]
  },
  {
   "cell_type": "code",
   "execution_count": 43,
   "metadata": {
    "ExecuteTime": {
     "end_time": "2020-06-07T12:46:19.533543Z",
     "start_time": "2020-06-07T12:46:19.509399Z"
    }
   },
   "outputs": [],
   "source": [
    "def calculate_matched_hue(main_hue, cover_degree, number):\n",
    "    \"\"\"\n",
    "    :param main_hue: \n",
    "    :param cover_degree: \n",
    "    :param number:\n",
    "    :return: \n",
    "    \"\"\"\n",
    "    if number <= 1:\n",
    "        return [main_hue]\n",
    "    \n",
    "    result = []\n",
    "    left_hue = main_hue - cover_degree / 360. / 2\n",
    "    right_hue = main_hue + cover_degree / 360. / 2\n",
    "    \n",
    "    # 当返回奇数个颜色，计算结果会包含原本的，所以多算一个\n",
    "    num = number + number % 2\n",
    "    \n",
    "    for i in range(num):\n",
    "        result.append(left_hue + cover_degree / (num - 1) / 360. * i)\n",
    "    \n",
    "    # 将多算的一个去掉\n",
    "    if number % 2 == 1:\n",
    "        del result[int(number/2)]\n",
    "        \n",
    "    return result\n",
    "    \n",
    "    \n",
    "\n",
    "def color_match_harmony(input_color, mode='Y', number=4):\n",
    "    \"\"\"\n",
    "    :param input_color: \n",
    "    :param mode: \n",
    "    :return: \n",
    "    \"\"\"\n",
    "    if mode not in ['i', 'V', 'L', 'I', 'T', 'Y', 'X']:\n",
    "        raise ValueError('Invalid harmony color match mode \"%s\".' % mode)\n",
    "    \n",
    "    color_rgb = input_color\n",
    "    color_hsv = list(colorsys.rgb_to_hsv(color_rgb[0], color_rgb[1], color_rgb[2]))\n",
    "    color_hsv[2] = color_hsv[2] / 255.\n",
    "    \n",
    "    result_hue = None\n",
    "    \n",
    "    if mode == 'i':\n",
    "        result_hue = calculate_matched_hue(main_hue=color_hsv[0], cover_degree=18, number=number)\n",
    "    elif mode == 'V':\n",
    "        result_hue = calculate_matched_hue(main_hue=color_hsv[0], cover_degree=93.6, number=number)\n",
    "    elif mode == 'L':\n",
    "        pass\n",
    "    elif mode == 'I':\n",
    "        pass\n",
    "    elif mode == 'T':\n",
    "        pass\n",
    "    elif mode == 'Y':\n",
    "        pass\n",
    "    elif mode == 'X':\n",
    "        pass\n",
    "    else:\n",
    "        raise ValueError('Invalid color match mode \"%s\".' % mode)\n",
    "    \n",
    "    result = []\n",
    "    for item in result_hue:\n",
    "        result.append([item, color_hsv[1], color_hsv[2]])\n",
    "    \n",
    "    for i, item in enumerate(result):\n",
    "        rgb_color = list(colorsys.hsv_to_rgb(item[0], item[1], item[2]))\n",
    "        for j in range(len(rgb_color)):\n",
    "            rgb_color[j] = int(rgb_color[j] * 255)\n",
    "        result[i] = rgb_color\n",
    "    \n",
    "    return result"
   ]
  },
  {
   "cell_type": "code",
   "execution_count": 52,
   "metadata": {
    "ExecuteTime": {
     "end_time": "2020-06-07T12:48:20.503321Z",
     "start_time": "2020-06-07T12:48:18.916740Z"
    }
   },
   "outputs": [
    {
     "name": "stdout",
     "output_type": "stream",
     "text": [
      "Input color belongs to \"蓝\" according to mode \"hue\"\n"
     ]
    }
   ],
   "source": [
    "input_color = [87, 75, 125]\n",
    "color_number = 6\n",
    "color_classification_mode = 'hue'\n",
    "color_match_mode = 'i'\n",
    "category = color_classification(input_color, color_classification_mode)\n",
    "print('Input color belongs to \"%s\" according to mode \"%s\"' % (category, color_classification_mode))\n",
    "\n",
    "\n",
    "result = color_match_harmony(input_color=input_color, mode=color_match_mode, number=color_number)\n",
    "color_visualize(input_color, result)"
   ]
  },
  {
   "cell_type": "code",
   "execution_count": null,
   "metadata": {},
   "outputs": [],
   "source": []
  }
 ],
 "metadata": {
  "kernelspec": {
   "display_name": "Python 3.6.10 64-bit ('hacking-design': conda)",
   "language": "python",
   "name": "python361064bithackingdesignconda91166ca6e71b462d9b64024cc0bd899b"
  },
  "language_info": {
   "codemirror_mode": {
    "name": "ipython",
    "version": 3
   },
   "file_extension": ".py",
   "mimetype": "text/x-python",
   "name": "python",
   "nbconvert_exporter": "python",
   "pygments_lexer": "ipython3",
   "version": "3.6.10"
  },
  "toc": {
   "base_numbering": 1,
   "nav_menu": {},
   "number_sections": true,
   "sideBar": true,
   "skip_h1_title": false,
   "title_cell": "Table of Contents",
   "title_sidebar": "Contents",
   "toc_cell": false,
   "toc_position": {},
   "toc_section_display": true,
   "toc_window_display": false
  },
  "varInspector": {
   "cols": {
    "lenName": 16,
    "lenType": 16,
    "lenVar": 40
   },
   "kernels_config": {
    "python": {
     "delete_cmd_postfix": "",
     "delete_cmd_prefix": "del ",
     "library": "var_list.py",
     "varRefreshCmd": "print(var_dic_list())"
    },
    "r": {
     "delete_cmd_postfix": ") ",
     "delete_cmd_prefix": "rm(",
     "library": "var_list.r",
     "varRefreshCmd": "cat(var_dic_list()) "
    }
   },
   "types_to_exclude": [
    "module",
    "function",
    "builtin_function_or_method",
    "instance",
    "_Feature"
   ],
   "window_display": false
  }
 },
 "nbformat": 4,
 "nbformat_minor": 4
}
