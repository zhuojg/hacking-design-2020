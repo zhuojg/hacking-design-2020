{
 "cells": [
  {
   "cell_type": "markdown",
   "metadata": {},
   "source": [
    "# 自动配色算法\n",
    "\n",
    "## 设计⼀个自动配色的算法，以架构图的方式、代码的方式提交\n",
    "\n",
    "提示：利用本节课介绍的知识，可以搭建⼀个，但肯定还有很多可以提升的余地。  \n",
    "\n",
    "### STEP01 定义输入输出\n",
    "\n",
    "举例：定义输⼊：某个颜色rgb；输出：3个可搭配的颜⾊rgb及⽐例  \n",
    "\n",
    "### STEP02 分类rgb到某个颜色（或色相）\n",
    "\n",
    "### STEP03 根据分类后的颜色，返回搭配的其他色彩\n",
    "\n",
    "举例:可以预先设定色彩搭配模板，也可以根据色彩规律计算，还可以有哪些方法？"
   ]
  },
  {
   "cell_type": "code",
   "execution_count": 1,
   "metadata": {
    "ExecuteTime": {
     "end_time": "2020-06-08T15:16:41.622491Z",
     "start_time": "2020-06-08T15:16:41.356624Z"
    }
   },
   "outputs": [],
   "source": [
    "# import lib\n",
    "import colorsys\n",
    "from PIL import Image, ImageDraw\n",
    "import matplotlib.pyplot as plt"
   ]
  },
  {
   "cell_type": "code",
   "execution_count": 2,
   "metadata": {
    "ExecuteTime": {
     "end_time": "2020-06-08T15:16:42.253560Z",
     "start_time": "2020-06-08T15:16:42.243560Z"
    }
   },
   "outputs": [],
   "source": [
    "# utils\n",
    "def color_class_visualize(input_color):\n",
    "    \"\"\"\n",
    "    :param input_color: should be rgb color, with value between [0, 255], like [126, 45, 200]\n",
    "    \"\"\"\n",
    "    pass\n",
    "\n",
    "def color_visualize(main_color, matched_colors):\n",
    "    \"\"\"\n",
    "    :param main_color: user input color, should be rgb color, with value between [0, 255], like [126, 45, 200]\n",
    "    :param matched_colors: matched colors calculated by the program\n",
    "    :return: \n",
    "    \"\"\"\n",
    "    canvas = Image.new('RGB', (100 * color_number, 200), (255, 255, 255))\n",
    "    draw = ImageDraw.Draw(canvas)\n",
    "    for i, item in enumerate(matched_colors):\n",
    "        draw.rectangle((i*100, 100, i* 100 + 100, 200), tuple(item))\n",
    "    \n",
    "    # add input color\n",
    "    draw.rectangle((0, 0, 100 * color_number + 100, 100 ), tuple(main_color))\n",
    "\n",
    "    return canvas"
   ]
  },
  {
   "cell_type": "code",
   "execution_count": 3,
   "metadata": {
    "ExecuteTime": {
     "end_time": "2020-06-08T15:10:52.035139Z",
     "start_time": "2020-06-08T15:10:52.029137Z"
    }
   },
   "outputs": [],
   "source": [
    "def color_classification(input_color, mode='hue'):\n",
    "    \"\"\"\n",
    "    :param input_color: should be rgb color, with value between [0, 255], like [126, 45, 200]\n",
    "    :param mode: hue, xxx or xxx\n",
    "    :return: the class input_color belongs to, calculated with rule of mode\n",
    "    \"\"\"\n",
    "    if mode not in ['hue', 'emotion']:\n",
    "        raise ValueError('Invalid color classification mode \"%s\"' % mode)\n",
    "    \n",
    "    color_class = None\n",
    "    \n",
    "    color_rgb = input_color\n",
    "    color_hsv = list(colorsys.rgb_to_hsv(color_rgb[0], color_rgb[1], color_rgb[2]))\n",
    "    # in colorsys, the v value belongs to [0, 255], but h and s belongs to [0, 1]\n",
    "    # so convert them\n",
    "    color_hsv[2] = color_hsv[2] / 255.\n",
    "    \n",
    "    if mode == 'hue':\n",
    "        class_define = ['红', '橙', '黄', '黄绿', '绿', '青绿', '青', '天蓝', '蓝', '蓝紫', '紫', '紫红']\n",
    "        hue = color_hsv[0]\n",
    "        color_class = class_define[int(hue * 360 / 30)]\n",
    "    elif mode == 'emotion':\n",
    "        pass\n",
    "    \n",
    "    return color_class"
   ]
  },
  {
   "cell_type": "code",
   "execution_count": 34,
   "metadata": {
    "ExecuteTime": {
     "end_time": "2020-06-08T15:41:45.067198Z",
     "start_time": "2020-06-08T15:41:45.049074Z"
    }
   },
   "outputs": [],
   "source": [
    "def calculate_matched_hue(main_hue, cover_degree, number):\n",
    "    \"\"\"\n",
    "    :param main_hue: \n",
    "    :param cover_degree: \n",
    "    :param number:\n",
    "    :return: \n",
    "    \"\"\"\n",
    "    if number <= 0:\n",
    "        return []\n",
    "    \n",
    "    result = []\n",
    "    left_hue = main_hue - cover_degree / 360. / 2\n",
    "    \n",
    "    if left_hue < 0:\n",
    "        left_hue += 1\n",
    "        \n",
    "    if number == 1:\n",
    "        return [left_hue]\n",
    "    \n",
    "    # 当返回奇数个颜色，计算结果会包含原本的，所以多算一个\n",
    "    num = number + number % 2\n",
    "    \n",
    "    for i in range(num):\n",
    "        result.append(left_hue + cover_degree / (num - 1) / 360. * i)\n",
    "    \n",
    "    # 将多算的一个去掉\n",
    "    if number % 2 == 1:\n",
    "        del result[int(number/2)]\n",
    "    \n",
    "    # 如果hue值超过了[0, 1]的范围，则修正\n",
    "    for i in range(len(result)):\n",
    "        if result[i] < 0:\n",
    "            result[i] += 1\n",
    "        if result[i] > 1:\n",
    "            result[i] -= 1\n",
    "        \n",
    "    return result\n",
    "    \n",
    "    \n",
    "def color_match_harmony(input_color, mode='Y', number=4):\n",
    "    \"\"\"\n",
    "    :param input_color: \n",
    "    :param mode: \n",
    "    :return: \n",
    "    \"\"\"\n",
    "    if mode not in ['i', 'V', 'L', 'I', 'T', 'Y', 'X']:\n",
    "        raise ValueError('Invalid harmony color match mode \"%s\".' % mode)\n",
    "    \n",
    "    color_rgb = input_color\n",
    "    color_hsv = list(colorsys.rgb_to_hsv(color_rgb[0], color_rgb[1], color_rgb[2]))\n",
    "    color_hsv[2] = color_hsv[2] / 255.\n",
    "    \n",
    "    result_hue = None\n",
    "    \n",
    "    if mode == 'i':\n",
    "        result_hue = calculate_matched_hue(main_hue=color_hsv[0], cover_degree=18, number=number)\n",
    "    elif mode == 'V':\n",
    "        result_hue = calculate_matched_hue(main_hue=color_hsv[0], cover_degree=93.6, number=number)\n",
    "    elif mode == 'L':\n",
    "        first_part_percentage = 18 / (18 + 79.2)\n",
    "        first_part_num = int(number * first_part_percentage)\n",
    "        first_part_num = first_part_num if first_part_num > 0 else (first_part_num + 1)\n",
    "        result_hue_1 = calculate_matched_hue(main_hue=color_hsv[0], cover_degree=18, number=first_part_num)\n",
    "        second_hue = color_hsv[0] + 0.25\n",
    "        second_hue = second_hue if second_hue <= 1 else (second_hue - 1)\n",
    "        result_hue_2 = calculate_matched_hue(main_hue=second_hue, cover_degree=79.2, number=number - first_part_num)\n",
    "        result_hue = result_hue_1 + result_hue_2\n",
    "    elif mode == 'I':\n",
    "        first_part_num = int(number / 2)\n",
    "        result_hue_1 = calculate_matched_hue(main_hue=color_hsv[0], cover_degree=18, number=first_part_num)\n",
    "        opposite_hue = color_hsv[0] + 0.5\n",
    "        opposite_hue = opposite_hue if opposite_hue <= 1 else (opposite_hue - 1)\n",
    "        result_hue_2 = calculate_matched_hue(main_hue=opposite_hue, cover_degree=18, number=number - first_part_num)\n",
    "        result_hue = result_hue_1 + result_hue_2\n",
    "    elif mode == 'T':\n",
    "        result_hue = calculate_matched_hue(main_hue=color_hsv[0], cover_degree=180, number=number)\n",
    "    elif mode == 'Y':\n",
    "        second_part_percentage = 18 / (18 + 79.2)\n",
    "        second_part_num = int(number * second_part_percentage)\n",
    "        second_part_num = second_part_num if second_part_num > 0 else (second_part_num + 1)\n",
    "        result_hue_1 = calculate_matched_hue(main_hue=color_hsv[0], cover_degree=93.6, number=number - second_part_num)\n",
    "        opposite_hue = color_hsv[0] + 0.5\n",
    "        opposite_hue = opposite_hue if opposite_hue <= 1 else (opposite_hue - 1)\n",
    "        result_hue_2 = calculate_matched_hue(main_hue=opposite_hue, cover_degree=18, number=second_part_num)\n",
    "        result_hue = result_hue_1 + result_hue_2\n",
    "    elif mode == 'X':\n",
    "        first_part_num = int(number / 2)\n",
    "        result_hue_1 = calculate_matched_hue(main_hue=color_hsv[0], cover_degree=93.6, number=first_part_num)\n",
    "        opposite_hue = color_hsv[0] + 0.5\n",
    "        opposite_hue = opposite_hue if opposite_hue <= 1 else (opposite_hue - 1)\n",
    "        result_hue_2 = calculate_matched_hue(main_hue=opposite_hue, cover_degree=93.6, number=number - first_part_num)\n",
    "        result_hue = result_hue_1 + result_hue_2\n",
    "    else:\n",
    "        raise ValueError('Invalid color match mode \"%s\".' % mode)\n",
    "    \n",
    "    result = []\n",
    "    for item in result_hue:\n",
    "        result.append([item, color_hsv[1], color_hsv[2]])\n",
    "    \n",
    "    for i, item in enumerate(result):\n",
    "        rgb_color = list(colorsys.hsv_to_rgb(item[0], item[1], item[2]))\n",
    "        for j in range(len(rgb_color)):\n",
    "            rgb_color[j] = int(rgb_color[j] * 255)\n",
    "        result[i] = rgb_color\n",
    "    \n",
    "    return result"
   ]
  },
  {
   "cell_type": "code",
   "execution_count": 38,
   "metadata": {
    "ExecuteTime": {
     "end_time": "2020-06-08T15:41:49.392966Z",
     "start_time": "2020-06-08T15:41:49.312833Z"
    }
   },
   "outputs": [
    {
     "name": "stdout",
     "output_type": "stream",
     "text": [
      "Input color belongs to \"蓝紫\" according to mode \"hue\"\n",
      "RGB for matched colors: [9, 34, 125], [9, 14, 125], [25, 9, 125], [45, 9, 125], [65, 9, 125], [84, 9, 125], [104, 9, 125], [124, 9, 125], [125, 9, 105], [125, 9, 85], [77, 125, 9], [42, 125, 9]\n"
     ]
    },
    {
     "data": {
      "text/plain": [
       "<matplotlib.image.AxesImage at 0x1323458bb38>"
      ]
     },
     "execution_count": 38,
     "metadata": {},
     "output_type": "execute_result"
    },
    {
     "data": {
      "image/png": "[encoded data removed]",
      "text/plain": [
       "<Figure size 432x288 with 1 Axes>"
      ]
     },
     "metadata": {
      "needs_background": "light"
     },
     "output_type": "display_data"
    }
   ],
   "source": [
    "input_color = [75, 10, 125]\n",
    "color_number = 12\n",
    "color_classification_mode = 'hue'\n",
    "color_match_mode = 'Y'\n",
    "\n",
    "category = color_classification(input_color, color_classification_mode)\n",
    "print('Input color belongs to \"%s\" according to mode \"%s\"' % (category, color_classification_mode))\n",
    "\n",
    "result = color_match_harmony(input_color=input_color, mode=color_match_mode, number=color_number)\n",
    "print('RGB for matched colors: %s' % ', '.join([str(item) for item in result]))\n",
    "plt.figure()\n",
    "plt.axis('off')\n",
    "plt.imshow(color_visualize(input_color, result))"
   ]
  },
  {
   "cell_type": "code",
   "execution_count": null,
   "metadata": {},
   "outputs": [],
   "source": []
  }
 ],
 "metadata": {
  "kernelspec": {
   "display_name": "Python 3.6.10 64-bit ('hacking-design': conda)",
   "language": "python",
   "name": "python361064bithackingdesignconda91166ca6e71b462d9b64024cc0bd899b"
  },
  "language_info": {
   "codemirror_mode": {
    "name": "ipython",
    "version": 3
   },
   "file_extension": ".py",
   "mimetype": "text/x-python",
   "name": "python",
   "nbconvert_exporter": "python",
   "pygments_lexer": "ipython3",
   "version": "3.6.10"
  },
  "toc": {
   "base_numbering": 1,
   "nav_menu": {},
   "number_sections": true,
   "sideBar": true,
   "skip_h1_title": false,
   "title_cell": "Table of Contents",
   "title_sidebar": "Contents",
   "toc_cell": false,
   "toc_position": {},
   "toc_section_display": true,
   "toc_window_display": false
  },
  "varInspector": {
   "cols": {
    "lenName": 16,
    "lenType": 16,
    "lenVar": 40
   },
   "kernels_config": {
    "python": {
     "delete_cmd_postfix": "",
     "delete_cmd_prefix": "del ",
     "library": "var_list.py",
     "varRefreshCmd": "print(var_dic_list())"
    },
    "r": {
     "delete_cmd_postfix": ") ",
     "delete_cmd_prefix": "rm(",
     "library": "var_list.r",
     "varRefreshCmd": "cat(var_dic_list()) "
    }
   },
   "types_to_exclude": [
    "module",
    "function",
    "builtin_function_or_method",
    "instance",
    "_Feature"
   ],
   "window_display": false
  }
 },
 "nbformat": 4,
 "nbformat_minor": 4
}
