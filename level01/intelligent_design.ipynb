{
 "cells": [
  {
   "cell_type": "code",
   "execution_count": null,
   "metadata": {},
   "outputs": [],
   "source": [
    "# Intelligent Design"
   ]
  },
  {
   "cell_type": "code",
   "execution_count": null,
   "metadata": {},
   "outputs": [],
   "source": [
    "# Lib Import"
   ]
  },
  {
   "cell_type": "markdown",
   "metadata": {},
   "source": [
    "## Framework\n",
    "![](https://raw.githubusercontent.com/zhuojg/hacking-design-ai-2020/master/images/framework.png)"
   ]
  },
  {
   "cell_type": "code",
   "execution_count": null,
   "metadata": {},
   "outputs": [],
   "source": [
    "class IntelligentDesign:\n",
    "    def __init__(img, word):\n",
    "        self.img = img\n",
    "        self.word = word\n",
    "\n",
    "        self.content = None\n",
    "        self.style = None\n",
    "        self.emotion = None\n",
    "\n",
    "        self.main_img = None\n",
    "        self.document = None\n",
    "\n",
    "        self.decoration = None\n",
    "        self.layout = None\n",
    "        self.color = None\n",
    "\n",
    "        self.filter = None\n",
    "\n",
    "        self.canvas = None\n",
    "\n",
    "    def document_generate():\n",
    "        # self.document = f(self.word)\n",
    "        pass\n",
    "\n",
    "    def image_crop():\n",
    "        # self.main_img = f(self.img)\n",
    "        pass\n",
    "    \n",
    "    def content_recognize():\n",
    "        # self.content = f(self.img, self.word)\n",
    "        pass\n",
    "    \n",
    "    def style_recognize():\n",
    "        # self.style = f(self.img, self.word)\n",
    "        pass\n",
    "    \n",
    "    def emotion_recognize():\n",
    "        # self.emotion = f(self.img, self.word)\n",
    "        pass\n",
    "\n",
    "    def decoration_generate():\n",
    "        # self.decoration = f(self.content, self.style)\n",
    "        pass\n",
    "\n",
    "    def color_design():\n",
    "        # self.color = f(self.style, self.emotion)\n",
    "        pass\n",
    "\n",
    "    def layout_generate():\n",
    "        # self.layout = f(self.syle, self.emotion)\n",
    "        pass\n",
    "\n",
    "    def layout_apply():\n",
    "        # self.canvas = f(self.main_img, self.document, self.decoration, self.layout)\n",
    "        pass\n",
    "\n",
    "    def filter_generate():\n",
    "        # self.filter = f(self.style, self.emotion)\n",
    "        pass\n",
    "\n",
    "    def filter_apply():\n",
    "        # self.canvas = f(self.canvas, self.filter)\n",
    "        pass\n",
    "    \n",
    "    def render():\n",
    "        # step 1\n",
    "        self.document_generate()\n",
    "        self.image_crop()\n",
    "        self.content_recognize()\n",
    "        self.style_recognize()\n",
    "        self.emotion_recognize()\n",
    "\n",
    "        self.decoration_generate()\n",
    "        self.color_design()\n",
    "\n",
    "        # step 2\n",
    "        self.layout_generate()\n",
    "        self.layout_apply()\n",
    "\n",
    "        # step 3\n",
    "        self.filter_generate()\n",
    "        self.filter_apply()\n",
    "\n",
    "        return self.canvas\n"
   ]
  },
  {
   "cell_type": "code",
   "execution_count": null,
   "metadata": {},
   "outputs": [],
   "source": [
    "id = IntelligentDesign(img='', word='')\n",
    "result = id.render()\n"
   ]
  }
 ],
 "metadata": {
  "kernelspec": {
   "display_name": "Python 3.6.10 64-bit ('hacking-design': conda)",
   "language": "python",
   "name": "python361064bithackingdesignconda91166ca6e71b462d9b64024cc0bd899b"
  },
  "language_info": {
   "codemirror_mode": {
    "name": "ipython",
    "version": 3
   },
   "file_extension": ".py",
   "mimetype": "text/x-python",
   "name": "python",
   "nbconvert_exporter": "python",
   "pygments_lexer": "ipython3",
   "version": "3.6.10-final"
  },
  "toc": {
   "base_numbering": 1,
   "nav_menu": {},
   "number_sections": true,
   "sideBar": true,
   "skip_h1_title": false,
   "title_cell": "Table of Contents",
   "title_sidebar": "Contents",
   "toc_cell": false,
   "toc_position": {},
   "toc_section_display": true,
   "toc_window_display": false
  },
  "varInspector": {
   "cols": {
    "lenName": 16,
    "lenType": 16,
    "lenVar": 40
   },
   "kernels_config": {
    "python": {
     "delete_cmd_postfix": "",
     "delete_cmd_prefix": "del ",
     "library": "var_list.py",
     "varRefreshCmd": "print(var_dic_list())"
    },
    "r": {
     "delete_cmd_postfix": ") ",
     "delete_cmd_prefix": "rm(",
     "library": "var_list.r",
     "varRefreshCmd": "cat(var_dic_list()) "
    }
   },
   "types_to_exclude": [
    "module",
    "function",
    "builtin_function_or_method",
    "instance",
    "_Feature"
   ],
   "window_display": false
  }
 },
 "nbformat": 4,
 "nbformat_minor": 4
}